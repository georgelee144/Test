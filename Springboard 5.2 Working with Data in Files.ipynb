{
 "cells": [
  {
   "cell_type": "code",
   "execution_count": 236,
   "metadata": {
    "scrolled": true
   },
   "outputs": [
    {
     "name": "stdout",
     "output_type": "stream",
     "text": [
      "China                 19\n",
      "Indonesia             19\n",
      "Vietnam               17\n",
      "India                 16\n",
      "Yemen, Republic of    13\n",
      "Bangladesh            12\n",
      "Morocco               12\n",
      "Nepal                 12\n",
      "Africa                11\n",
      "Mozambique            11\n",
      "Name: countryshortname, dtype: int64\n"
     ]
    }
   ],
   "source": [
    "\"\"\"Find the 10 countries with most projects\"\"\"\n",
    "import pandas as pd\n",
    "import json\n",
    "\n",
    "file = 'data_wrangling_json\\data\\world_bank_projects.json'\n",
    "\n",
    "#loaded json file\n",
    "with open(file) as json_file:\n",
    "    json_data = json.load(json_file)\n",
    "    \n",
    "#turned jsonfile into pandas dataframe\n",
    "df = pd.DataFrame(json_data)\n",
    "\n",
    "\"\"\"counted number of time a country's name came up in 'countryshortname' column using pd_name.value_counts()\n",
    "and stored it in country_count\"\"\"\n",
    "country_count = df['countryshortname'].value_counts()\n",
    "\n",
    "#printed first 10 entries as per instrutions\n",
    "print(country_count[0:10])"
   ]
  },
  {
   "cell_type": "code",
   "execution_count": 235,
   "metadata": {},
   "outputs": [
    {
     "name": "stdout",
     "output_type": "stream",
     "text": [
      "11    250\n",
      "10    216\n",
      "8     210\n",
      "2     199\n",
      "6     168\n",
      "4     146\n",
      "7     130\n",
      "5      77\n",
      "9      50\n",
      "1      38\n",
      "Name: code, dtype: int64\n"
     ]
    }
   ],
   "source": [
    "\"\"\"2. Find the top 10 major project themes (using column 'mjtheme_namecode')\n",
    "3. In 2. above you will notice that some entries have only the code and the name is missing. Create a dataframe with the missing names filled in.\"\"\"\n",
    "import pandas as pd\n",
    "import json\n",
    "from pandas.io.json import json_normalize\n",
    "\n",
    "file = 'data_wrangling_json\\data\\world_bank_projects.json'\n",
    "\n",
    "#Unpack json file as prompt showed\n",
    "json_data = json.load((open(file)))\n",
    "\n",
    "json_data_mj_namecode = json_normalize(json_data,'mjtheme_namecode')\n",
    "\n",
    "df = pd.DataFrame(json_data_mj_namecode)\n",
    "\n",
    "#counted amount that each time a code showed up\n",
    "code_count = df.code.value_counts(dropna=False)\n",
    "\n",
    "#printed first 10 entries as per instrutions\n",
    "print(code_count[0:10])"
   ]
  },
  {
   "cell_type": "code",
   "execution_count": null,
   "metadata": {},
   "outputs": [],
   "source": []
  },
  {
   "cell_type": "code",
   "execution_count": 237,
   "metadata": {
    "scrolled": false
   },
   "outputs": [],
   "source": [
    "\"\"\"2. Find the top 10 major project themes (using column 'mjtheme_namecode')\n",
    "3. In 2. above you will notice that some entries have only the code and the name is missing. Create a dataframe with the missing names filled in.\"\"\"\n",
    "import pandas as pd\n",
    "import json\n",
    "from pandas.io.json import json_normalize\n",
    "\n",
    "file = 'data_wrangling_json\\data\\world_bank_projects.json'\n",
    "\n",
    "json_data = json.load((open(file)))\n",
    "\n",
    "json_data_mj_namecode = json_normalize(json_data,'mjtheme_namecode')\n",
    "\n",
    "df = pd.DataFrame(json_data_mj_namecode)\n",
    "\n",
    "#dictionary of code as keys and their descriptive names\n",
    "code_name = {'1':'Economic management',\n",
    "             '2':'Public sector governance',\n",
    "             '3':'Rule of law',\n",
    "             '4':'Financial and private sector development',\n",
    "             '5':'Trade and integration',\n",
    "             '6':'Social protection and risk management',\n",
    "             '7':'Social dev/gender/inclusion',\n",
    "             '8':'Human development',\n",
    "             '9':'Urban development',\n",
    "             '10':'Rural development',\n",
    "             '11':'Environment and natural resources management',\n",
    "            }\n",
    "\n",
    "#replaced all names with their names using .map(dict)\n",
    "df['name'] = df['code'].map(code_name)"
   ]
  },
  {
   "cell_type": "code",
   "execution_count": null,
   "metadata": {},
   "outputs": [],
   "source": []
  }
 ],
 "metadata": {
  "kernelspec": {
   "display_name": "Python 3",
   "language": "python",
   "name": "python3"
  },
  "language_info": {
   "codemirror_mode": {
    "name": "ipython",
    "version": 3
   },
   "file_extension": ".py",
   "mimetype": "text/x-python",
   "name": "python",
   "nbconvert_exporter": "python",
   "pygments_lexer": "ipython3",
   "version": "3.6.5"
  }
 },
 "nbformat": 4,
 "nbformat_minor": 2
}
